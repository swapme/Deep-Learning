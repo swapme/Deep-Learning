{
  "nbformat": 4,
  "nbformat_minor": 0,
  "metadata": {
    "colab": {
      "name": "GPU tensorflow basic commands.ipynb",
      "version": "0.3.2",
      "provenance": [],
      "collapsed_sections": []
    },
    "kernelspec": {
      "name": "python3",
      "display_name": "Python 3"
    }
  },
  "cells": [
    {
      "metadata": {
        "id": "4bbBerbMF5mR",
        "colab_type": "text"
      },
      "cell_type": "markdown",
      "source": [
        "### **To check CuDNN version **"
      ]
    },
    {
      "metadata": {
        "id": "Zbov3iB3GPTu",
        "colab_type": "code",
        "colab": {
          "base_uri": "https://localhost:8080/",
          "height": 34
        },
        "outputId": "0a326edc-ad51-46e9-b9dd-e4745580aa67"
      },
      "cell_type": "code",
      "source": [
        "!whereis cudnn.h"
      ],
      "execution_count": 2,
      "outputs": [
        {
          "output_type": "stream",
          "text": [
            "cudnn: /usr/include/cudnn.h\n"
          ],
          "name": "stdout"
        }
      ]
    },
    {
      "metadata": {
        "id": "DxY9ZuOSFyRI",
        "colab_type": "code",
        "colab": {
          "base_uri": "https://localhost:8080/",
          "height": 139
        },
        "outputId": "80c0ae5a-2628-4599-916f-8a0e9ce774ab"
      },
      "cell_type": "code",
      "source": [
        "!cat /usr/include/cudnn.h | grep CUDNN_MAJOR -A 2"
      ],
      "execution_count": 3,
      "outputs": [
        {
          "output_type": "stream",
          "text": [
            "#define CUDNN_MAJOR 7\n",
            "#define CUDNN_MINOR 5\n",
            "#define CUDNN_PATCHLEVEL 0\n",
            "--\n",
            "#define CUDNN_VERSION (CUDNN_MAJOR * 1000 + CUDNN_MINOR * 100 + CUDNN_PATCHLEVEL)\n",
            "\n",
            "#include \"driver_types.h\"\n"
          ],
          "name": "stdout"
        }
      ]
    },
    {
      "metadata": {
        "id": "3aGTeWhKGmOY",
        "colab_type": "code",
        "colab": {}
      },
      "cell_type": "code",
      "source": [
        "## version is 7.5.0"
      ],
      "execution_count": 0,
      "outputs": []
    },
    {
      "metadata": {
        "id": "e32Q_qJnHeJS",
        "colab_type": "text"
      },
      "cell_type": "markdown",
      "source": [
        "### To check tensorflow version"
      ]
    },
    {
      "metadata": {
        "id": "f0McHNhrHjyG",
        "colab_type": "code",
        "colab": {
          "base_uri": "https://localhost:8080/",
          "height": 34
        },
        "outputId": "42b0f858-4901-4016-8572-3f1b683a5c70"
      },
      "cell_type": "code",
      "source": [
        "import tensorflow as tf\n",
        "tf.__version__"
      ],
      "execution_count": 9,
      "outputs": [
        {
          "output_type": "execute_result",
          "data": {
            "text/plain": [
              "'1.13.1'"
            ]
          },
          "metadata": {
            "tags": []
          },
          "execution_count": 9
        }
      ]
    },
    {
      "metadata": {
        "id": "U-t016QiJQu4",
        "colab_type": "text"
      },
      "cell_type": "markdown",
      "source": [
        "### To check cuda version"
      ]
    },
    {
      "metadata": {
        "id": "G_wHa0rRJenD",
        "colab_type": "code",
        "colab": {
          "base_uri": "https://localhost:8080/",
          "height": 34
        },
        "outputId": "ff302970-85d9-4e7e-d955-ba4f0da6def1"
      },
      "cell_type": "code",
      "source": [
        "!whereis cuda"
      ],
      "execution_count": 10,
      "outputs": [
        {
          "output_type": "stream",
          "text": [
            "cuda: /usr/local/cuda\n"
          ],
          "name": "stdout"
        }
      ]
    },
    {
      "metadata": {
        "id": "yKfsy44fJYCE",
        "colab_type": "code",
        "colab": {
          "base_uri": "https://localhost:8080/",
          "height": 34
        },
        "outputId": "8169205d-6076-4e94-d376-5121b1820eb7"
      },
      "cell_type": "code",
      "source": [
        "!cat /usr/local/cuda/version.txt"
      ],
      "execution_count": 12,
      "outputs": [
        {
          "output_type": "stream",
          "text": [
            "CUDA Version 10.0.130\n"
          ],
          "name": "stdout"
        }
      ]
    },
    {
      "metadata": {
        "id": "xxNVlhJ5GqJN",
        "colab_type": "text"
      },
      "cell_type": "markdown",
      "source": [
        "### To check if gpu is running with tensorflow"
      ]
    },
    {
      "metadata": {
        "id": "6hiwy1AHG5xw",
        "colab_type": "code",
        "colab": {}
      },
      "cell_type": "code",
      "source": [
        "#run this code on python console\n",
        "import tensorflow as tf\n",
        "sess = tf.Session(config=tf.ConfigProto(log_device_placement=True))"
      ],
      "execution_count": 0,
      "outputs": []
    },
    {
      "metadata": {
        "id": "G_bBpy9VHINv",
        "colab_type": "code",
        "colab": {}
      },
      "cell_type": "code",
      "source": [
        "#TO check compatibility \"https://www.tensorflow.org/install/source#tested_build_configurations\"\n"
      ],
      "execution_count": 0,
      "outputs": []
    }
  ]
}
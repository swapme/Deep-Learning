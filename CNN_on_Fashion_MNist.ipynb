{
  "nbformat": 4,
  "nbformat_minor": 0,
  "metadata": {
    "colab": {
      "name": "CNN on Fashion MNist.ipynb",
      "version": "0.3.2",
      "provenance": [],
      "collapsed_sections": []
    },
    "kernelspec": {
      "name": "python3",
      "display_name": "Python 3"
    },
    "accelerator": "GPU"
  },
  "cells": [
    {
      "metadata": {
        "id": "T2HzkITT3dfq",
        "colab_type": "text"
      },
      "cell_type": "markdown",
      "source": [
        "## Different architechtures of CNN on Fashion MNIST\n",
        "Here we will be using fashion mnist data beacuse MNIST digit recogntion gives very high accuracies on CNN so we wont be able to really comapre the different architectures as they will have very little difference."
      ]
    },
    {
      "metadata": {
        "id": "Y2WbmIoU3Y0n",
        "colab_type": "text"
      },
      "cell_type": "markdown",
      "source": [
        "### Reading Data"
      ]
    },
    {
      "metadata": {
        "id": "Ic4XtAVo7fQb",
        "colab_type": "code",
        "colab": {}
      },
      "cell_type": "code",
      "source": [
        "import pandas as pd\n",
        "import numpy as np\n",
        "import matplotlib.pyplot as plt"
      ],
      "execution_count": 0,
      "outputs": []
    },
    {
      "metadata": {
        "id": "KWckheBF5qpD",
        "colab_type": "code",
        "colab": {
          "base_uri": "https://localhost:8080/",
          "height": 176
        },
        "outputId": "5f74d0e3-efd1-494b-c40e-1295dd2a0259"
      },
      "cell_type": "code",
      "source": [
        "import keras \n",
        "from keras.datasets import fashion_mnist\n",
        "(x_train, y_train), (x_test, y_test) = fashion_mnist.load_data()"
      ],
      "execution_count": 1,
      "outputs": [
        {
          "output_type": "stream",
          "text": [
            "Downloading data from http://fashion-mnist.s3-website.eu-central-1.amazonaws.com/train-labels-idx1-ubyte.gz\n",
            "32768/29515 [=================================] - 0s 8us/step\n",
            "Downloading data from http://fashion-mnist.s3-website.eu-central-1.amazonaws.com/train-images-idx3-ubyte.gz\n",
            "26427392/26421880 [==============================] - 4s 0us/step\n",
            "Downloading data from http://fashion-mnist.s3-website.eu-central-1.amazonaws.com/t10k-labels-idx1-ubyte.gz\n",
            "8192/5148 [===============================================] - 0s 0us/step\n",
            "Downloading data from http://fashion-mnist.s3-website.eu-central-1.amazonaws.com/t10k-images-idx3-ubyte.gz\n",
            "4423680/4422102 [==============================] - 2s 0us/step\n"
          ],
          "name": "stdout"
        }
      ]
    },
    {
      "metadata": {
        "id": "2hP7TsSoO--n",
        "colab_type": "code",
        "colab": {}
      },
      "cell_type": "code",
      "source": [
        "x_train = x_train.reshape(x_train.shape[0],28,28,1)\n",
        "x_test = x_test.reshape(x_test.shape[0],28,28,1)"
      ],
      "execution_count": 0,
      "outputs": []
    },
    {
      "metadata": {
        "id": "jaGorCAsQpHh",
        "colab_type": "code",
        "colab": {}
      },
      "cell_type": "code",
      "source": [
        "y_train = keras.utils.to_categorical(y_train,  num_classes)\n",
        "y_test = keras.utils.to_categorical(y_test, num_classes)"
      ],
      "execution_count": 0,
      "outputs": []
    },
    {
      "metadata": {
        "id": "zSzAFDBR6Lql",
        "colab_type": "code",
        "colab": {}
      },
      "cell_type": "code",
      "source": [
        "# plots images with labels within jupyter notebook\n",
        "def plots(ims, figsize=(12,6), rows=1, interp=False, titles=None):\n",
        "    if type(ims[0]) is np.ndarray:\n",
        "        ims = np.array(ims).astype(np.uint8)\n",
        "        if (ims.shape[-1] != 3):\n",
        "            pass\n",
        "            #ims = ims.transpose((0,2,3,1))\n",
        "    f = plt.figure(figsize=figsize)\n",
        "    cols = len(ims)//rows if len(ims) % 2 == 0 else len(ims)//rows + 1\n",
        "    for i in range(len(ims)):\n",
        "        sp = f.add_subplot(rows, cols, i+1)\n",
        "        sp.axis('Off')\n",
        "        if titles is not None:\n",
        "            sp.set_title(titles[i], fontsize=16)\n",
        "        plt.imshow(ims[i], interpolation=None if interp else 'none')\n"
      ],
      "execution_count": 0,
      "outputs": []
    },
    {
      "metadata": {
        "id": "AlGvzRjm7np2",
        "colab_type": "code",
        "colab": {}
      },
      "cell_type": "code",
      "source": [
        "imgs = [ x_test[y_test==label][:5] for label in np.unique(y_test) ]"
      ],
      "execution_count": 0,
      "outputs": []
    },
    {
      "metadata": {
        "id": "1uIiEYM7BgSO",
        "colab_type": "text"
      },
      "cell_type": "markdown",
      "source": [
        "We have 10 classes of different cloths plotting row-wise."
      ]
    },
    {
      "metadata": {
        "id": "vOSCQoeW7sfl",
        "colab_type": "code",
        "colab": {
          "base_uri": "https://localhost:8080/",
          "height": 378
        },
        "outputId": "e7093abc-734d-457e-dabb-02969d848556"
      },
      "cell_type": "code",
      "source": [
        "plots(np.reshape(imgs, (50,28,28)),rows=10)"
      ],
      "execution_count": 38,
      "outputs": [
        {
          "output_type": "display_data",
          "data": {
            "image/png": "[encoded data removed]",
            "text/plain": [
              "<Figure size 864x432 with 50 Axes>"
            ]
          },
          "metadata": {
            "tags": []
          }
        }
      ]
    },
    {
      "metadata": {
        "id": "b10oQnlwCJ5b",
        "colab_type": "code",
        "colab": {}
      },
      "cell_type": "code",
      "source": [
        "def preprocessing_image(imgs):\n",
        "  return imgs/255.0"
      ],
      "execution_count": 0,
      "outputs": []
    },
    {
      "metadata": {
        "id": "_DDnmrhNCeNw",
        "colab_type": "code",
        "colab": {}
      },
      "cell_type": "code",
      "source": [
        "import keras\n",
        "import tensorflow as tf\n",
        "tf.set_random_seed(94)\n",
        "from keras.models import Sequential\n",
        "from keras.layers import Dense, Dropout, Flatten, InputLayer\n",
        "from keras.layers import Conv2D, MaxPooling2D"
      ],
      "execution_count": 0,
      "outputs": []
    },
    {
      "metadata": {
        "id": "PXHSf1zlKbq5",
        "colab_type": "text"
      },
      "cell_type": "markdown",
      "source": [
        ""
      ]
    },
    {
      "metadata": {
        "id": "Wn1dDqeLDsfT",
        "colab_type": "code",
        "colab": {}
      },
      "cell_type": "code",
      "source": [
        "input_shape=(28,28,1)\n",
        "num_classes = 10\n",
        "batch_size=128"
      ],
      "execution_count": 0,
      "outputs": []
    },
    {
      "metadata": {
        "id": "nohXIqCj8HP-",
        "colab_type": "code",
        "colab": {}
      },
      "cell_type": "code",
      "source": [
        "def create_model(kernel_size=(3,3), pool_size=(2,2),pooling=True):\n",
        "  model = Sequential()\n",
        "  \n",
        "  #model.add(InputLayer(input_shape=input_shape))\n",
        "  model.add(Conv2D(128, kernel_size=kernel_size, activation='relu', input_shape=input_shape))\n",
        "  if(pooling):\n",
        "    model.add(MaxPooling2D(pool_size=pool_size)) \n",
        "  model.add(Conv2D(56, kernel_size=kernel_size, activation='relu'))\n",
        "  if(pooling):\n",
        "    model.add(MaxPooling2D(pool_size=pool_size))  \n",
        "  model.add(Flatten())\n",
        "  model.add(Dense(num_classes, activation='softmax'))\n",
        "  \n",
        "  return model"
      ],
      "execution_count": 0,
      "outputs": []
    },
    {
      "metadata": {
        "id": "IEF0XYMZCSnS",
        "colab_type": "code",
        "colab": {}
      },
      "cell_type": "code",
      "source": [
        "model1 = create_model(kernel_size=(8,8))"
      ],
      "execution_count": 0,
      "outputs": []
    },
    {
      "metadata": {
        "id": "Vciggu3XCTZ_",
        "colab_type": "code",
        "colab": {
          "base_uri": "https://localhost:8080/",
          "height": 347
        },
        "outputId": "19401844-8593-49e2-e91f-abd9da78f14a"
      },
      "cell_type": "code",
      "source": [
        "model1.summary()\n",
        "##dont forget to use flatten before using dense after conv2d.\n",
        "##dont forget to use to_categorical on multi label claasification using softmax\n",
        "##if using 1st layer as Conv2D then input shape is (rows,cols,channles)"
      ],
      "execution_count": 111,
      "outputs": [
        {
          "output_type": "stream",
          "text": [
            "_________________________________________________________________\n",
            "Layer (type)                 Output Shape              Param #   \n",
            "=================================================================\n",
            "conv2d_21 (Conv2D)           (None, 26, 26, 128)       1280      \n",
            "_________________________________________________________________\n",
            "max_pooling2d_15 (MaxPooling (None, 6, 6, 128)         0         \n",
            "_________________________________________________________________\n",
            "conv2d_22 (Conv2D)           (None, 4, 4, 56)          64568     \n",
            "_________________________________________________________________\n",
            "max_pooling2d_16 (MaxPooling (None, 1, 1, 56)          0         \n",
            "_________________________________________________________________\n",
            "flatten_5 (Flatten)          (None, 56)                0         \n",
            "_________________________________________________________________\n",
            "dense_8 (Dense)              (None, 10)                570       \n",
            "=================================================================\n",
            "Total params: 66,418\n",
            "Trainable params: 66,418\n",
            "Non-trainable params: 0\n",
            "_________________________________________________________________\n"
          ],
          "name": "stdout"
        }
      ]
    },
    {
      "metadata": {
        "id": "4E0b6Mv_D_7K",
        "colab_type": "code",
        "colab": {}
      },
      "cell_type": "code",
      "source": [
        "model1.compile(loss=keras.losses.categorical_crossentropy,\n",
        "              optimizer=keras.optimizers.Adadelta(),\n",
        "              metrics=['accuracy'])"
      ],
      "execution_count": 0,
      "outputs": []
    },
    {
      "metadata": {
        "id": "lNLOBdKnTxM9",
        "colab_type": "code",
        "colab": {}
      },
      "cell_type": "code",
      "source": [
        "x_train_preprocessed = x_train/255.0\n",
        "x_test_preprocessed = x_test/255.0"
      ],
      "execution_count": 0,
      "outputs": []
    },
    {
      "metadata": {
        "id": "ziR8inz9HbDi",
        "colab_type": "code",
        "colab": {
          "base_uri": "https://localhost:8080/",
          "height": 399
        },
        "outputId": "005ac3ab-db1b-4c14-9232-fb4680ef4b58"
      },
      "cell_type": "code",
      "source": [
        "model1.fit(x_train_preprocessed, y_train, validation_split=0.1, batch_size=batch_size, \n",
        "           epochs=10, verbose=2)"
      ],
      "execution_count": 121,
      "outputs": [
        {
          "output_type": "stream",
          "text": [
            "Train on 54000 samples, validate on 6000 samples\n",
            "Epoch 1/10\n",
            " - 8s - loss: 0.6217 - acc: 0.7745 - val_loss: 0.4183 - val_acc: 0.8463\n",
            "Epoch 2/10\n",
            " - 7s - loss: 0.3926 - acc: 0.8569 - val_loss: 0.4072 - val_acc: 0.8507\n",
            "Epoch 3/10\n",
            " - 7s - loss: 0.3411 - acc: 0.8760 - val_loss: 0.3385 - val_acc: 0.8767\n",
            "Epoch 4/10\n",
            " - 7s - loss: 0.3089 - acc: 0.8867 - val_loss: 0.3519 - val_acc: 0.8708\n",
            "Epoch 5/10\n",
            " - 7s - loss: 0.2857 - acc: 0.8941 - val_loss: 0.3396 - val_acc: 0.8813\n",
            "Epoch 6/10\n",
            " - 7s - loss: 0.2660 - acc: 0.9012 - val_loss: 0.2972 - val_acc: 0.8930\n",
            "Epoch 7/10\n",
            " - 7s - loss: 0.2481 - acc: 0.9085 - val_loss: 0.2831 - val_acc: 0.8995\n",
            "Epoch 8/10\n",
            " - 7s - loss: 0.2333 - acc: 0.9138 - val_loss: 0.2916 - val_acc: 0.8962\n",
            "Epoch 9/10\n",
            " - 7s - loss: 0.2180 - acc: 0.9198 - val_loss: 0.2725 - val_acc: 0.9032\n",
            "Epoch 10/10\n",
            " - 7s - loss: 0.2044 - acc: 0.9248 - val_loss: 0.2847 - val_acc: 0.9002\n"
          ],
          "name": "stdout"
        },
        {
          "output_type": "execute_result",
          "data": {
            "text/plain": [
              "<keras.callbacks.History at 0x7f67097f3cf8>"
            ]
          },
          "metadata": {
            "tags": []
          },
          "execution_count": 121
        }
      ]
    },
    {
      "metadata": {
        "id": "-fPqOs44YVjn",
        "colab_type": "code",
        "colab": {
          "base_uri": "https://localhost:8080/",
          "height": 52
        },
        "outputId": "fbf58ce8-b842-49dd-91b6-ef5ef8026024"
      },
      "cell_type": "code",
      "source": [
        "model1.evaluate(x_test_preprocessed, y_test) \n",
        "#pool_size=(2,2), kernel_size=(3,3)"
      ],
      "execution_count": 108,
      "outputs": [
        {
          "output_type": "stream",
          "text": [
            "10000/10000 [==============================] - 1s 120us/step\n"
          ],
          "name": "stdout"
        },
        {
          "output_type": "execute_result",
          "data": {
            "text/plain": [
              "[0.2762002569913864, 0.8994]"
            ]
          },
          "metadata": {
            "tags": []
          },
          "execution_count": 108
        }
      ]
    },
    {
      "metadata": {
        "id": "AWQCJWPUbCP5",
        "colab_type": "text"
      },
      "cell_type": "markdown",
      "source": [
        "#### Changing kernel size"
      ]
    },
    {
      "metadata": {
        "id": "pFoIWc7Zb3xt",
        "colab_type": "text"
      },
      "cell_type": "markdown",
      "source": [
        "Training accuracy increase with kernel size\n",
        "\n",
        "Increase in test acuuracy by changing kernel size from (3,3) to (5,5), but when increased too much to (8,8) test accuracy decreases."
      ]
    },
    {
      "metadata": {
        "id": "mRTh3nOJbH8Z",
        "colab_type": "code",
        "colab": {
          "base_uri": "https://localhost:8080/",
          "height": 52
        },
        "outputId": "238ad555-fb85-4139-f5da-d2272c4eb7bb"
      },
      "cell_type": "code",
      "source": [
        "model1.evaluate(x_test_preprocessed, y_test) ## kernel size=(5,5)"
      ],
      "execution_count": 118,
      "outputs": [
        {
          "output_type": "stream",
          "text": [
            "10000/10000 [==============================] - 1s 116us/step\n"
          ],
          "name": "stdout"
        },
        {
          "output_type": "execute_result",
          "data": {
            "text/plain": [
              "[0.2872223501086235, 0.9017]"
            ]
          },
          "metadata": {
            "tags": []
          },
          "execution_count": 118
        }
      ]
    },
    {
      "metadata": {
        "id": "Zzp5kY_NcARy",
        "colab_type": "code",
        "colab": {
          "base_uri": "https://localhost:8080/",
          "height": 52
        },
        "outputId": "16f1b010-12f0-4458-f2c3-afe3d8e29117"
      },
      "cell_type": "code",
      "source": [
        "model1.evaluate(x_test_preprocessed, y_test) ## kernel size=(8,8)"
      ],
      "execution_count": 123,
      "outputs": [
        {
          "output_type": "stream",
          "text": [
            "10000/10000 [==============================] - 1s 115us/step\n"
          ],
          "name": "stdout"
        },
        {
          "output_type": "execute_result",
          "data": {
            "text/plain": [
              "[0.3009698882699013, 0.8925]"
            ]
          },
          "metadata": {
            "tags": []
          },
          "execution_count": 123
        }
      ]
    },
    {
      "metadata": {
        "id": "GAm2xprnYrYo",
        "colab_type": "text"
      },
      "cell_type": "markdown",
      "source": [
        "#### Changing Pool Size"
      ]
    },
    {
      "metadata": {
        "id": "v3sGOJOvaVfP",
        "colab_type": "text"
      },
      "cell_type": "markdown",
      "source": [
        "Better Accuracy for small Pool Size"
      ]
    },
    {
      "metadata": {
        "id": "E3jvsJ8iYyv6",
        "colab_type": "code",
        "colab": {
          "base_uri": "https://localhost:8080/",
          "height": 52
        },
        "outputId": "a39513e3-f4f0-4a88-c0c0-0f93b0db49a5"
      },
      "cell_type": "code",
      "source": [
        "model1.evaluate(x_test_preprocessed, y_test) ## pool size=(4,4)"
      ],
      "execution_count": 114,
      "outputs": [
        {
          "output_type": "stream",
          "text": [
            "10000/10000 [==============================] - 1s 109us/step\n"
          ],
          "name": "stdout"
        },
        {
          "output_type": "execute_result",
          "data": {
            "text/plain": [
              "[0.33245270640850066, 0.8844]"
            ]
          },
          "metadata": {
            "tags": []
          },
          "execution_count": 114
        }
      ]
    },
    {
      "metadata": {
        "id": "DZ7bUWCCV6v3",
        "colab_type": "text"
      },
      "cell_type": "markdown",
      "source": [
        "#### Effect of Pooling"
      ]
    },
    {
      "metadata": {
        "id": "sBec3FXkaao3",
        "colab_type": "text"
      },
      "cell_type": "markdown",
      "source": [
        "Without Pooling better accuracy, could be because of better parameter initialization or maybe lateral translation is not important in this task or maybe downsampling is reducing features as input image size is small i.e. (28,28)"
      ]
    },
    {
      "metadata": {
        "id": "k5fSRUN4V5sA",
        "colab_type": "code",
        "colab": {
          "base_uri": "https://localhost:8080/",
          "height": 52
        },
        "outputId": "846b5ef8-ddca-49c9-b1fa-8b030fc11b34"
      },
      "cell_type": "code",
      "source": [
        "model1.evaluate(x_test_preprocessed, y_test) ##without pooling"
      ],
      "execution_count": 104,
      "outputs": [
        {
          "output_type": "stream",
          "text": [
            "10000/10000 [==============================] - 1s 139us/step\n"
          ],
          "name": "stdout"
        },
        {
          "output_type": "execute_result",
          "data": {
            "text/plain": [
              "[0.2870144347131252, 0.9097]"
            ]
          },
          "metadata": {
            "tags": []
          },
          "execution_count": 104
        }
      ]
    },
    {
      "metadata": {
        "id": "0Cr1Qni_a3rV",
        "colab_type": "text"
      },
      "cell_type": "markdown",
      "source": [
        "#### Normalizing data"
      ]
    },
    {
      "metadata": {
        "id": "NPJc8lw0VFBE",
        "colab_type": "text"
      },
      "cell_type": "markdown",
      "source": [
        "Little improvement when data was normalized"
      ]
    },
    {
      "metadata": {
        "id": "I7zzIZPNUHRI",
        "colab_type": "code",
        "colab": {
          "base_uri": "https://localhost:8080/",
          "height": 52
        },
        "outputId": "3b4e807e-e4ab-411b-e842-c65ca7742c1a"
      },
      "cell_type": "code",
      "source": [
        "model1.evaluate(x_test_preprocessed, y_test) ##with normalizing"
      ],
      "execution_count": 98,
      "outputs": [
        {
          "output_type": "stream",
          "text": [
            "10000/10000 [==============================] - 1s 117us/step\n"
          ],
          "name": "stdout"
        },
        {
          "output_type": "execute_result",
          "data": {
            "text/plain": [
              "[0.27834316152334215, 0.8996]"
            ]
          },
          "metadata": {
            "tags": []
          },
          "execution_count": 98
        }
      ]
    },
    {
      "metadata": {
        "id": "iWhpIzlnIdLi",
        "colab_type": "code",
        "colab": {
          "base_uri": "https://localhost:8080/",
          "height": 52
        },
        "outputId": "24b999f7-35da-4afc-8c4e-4ec56d397b2e"
      },
      "cell_type": "code",
      "source": [
        "model1.evaluate(x_test, y_test) ##without normalizing"
      ],
      "execution_count": 93,
      "outputs": [
        {
          "output_type": "stream",
          "text": [
            "10000/10000 [==============================] - 1s 118us/step\n"
          ],
          "name": "stdout"
        },
        {
          "output_type": "execute_result",
          "data": {
            "text/plain": [
              "[0.33223631479740146, 0.8882]"
            ]
          },
          "metadata": {
            "tags": []
          },
          "execution_count": 93
        }
      ]
    }
  ]
}